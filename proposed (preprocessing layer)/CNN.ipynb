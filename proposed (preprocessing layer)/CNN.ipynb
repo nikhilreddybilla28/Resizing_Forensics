{
  "nbformat": 4,
  "nbformat_minor": 0,
  "metadata": {
    "colab": {
      "name": "Proposed Method.ipynb",
      "provenance": [],
      "collapsed_sections": []
    },
    "kernelspec": {
      "name": "python3",
      "display_name": "Python 3"
    },
    "language_info": {
      "name": "python"
    },
    "accelerator": "GPU",
    "gpuClass": "standard"
  },
  "cells": [
    {
      "cell_type": "markdown",
      "metadata": {
        "id": "S37mt-ruFZHL"
      },
      "source": [
        "In experiment 1.2 we employed five high pass filters in the first (preprocessing) layer in our model. These filters were the following.\n",
        "\n",
        "<ul>\n",
        "<li>5x5 laplacian kernel</li>\n",
        "<li>5x5 Sobel X kernel</li>\n",
        "<li>5x5 Sobel Y kernel</li>\n",
        "<li>5x5 Prewitt X kernel</li>\n",
        "<li>5x5 Prewitt Y kernel</li>\n",
        "</ul>\n",
        "\n",
        "In this experiment, for our first layer filters we will use the 20 filters that have been used for Robust Median Filtering by Yu et al.(link to paper can be found [here](https://sci-hub.se/10.1109/ACCESS.2019.2932810))"
      ]
    },
    {
      "cell_type": "markdown",
      "metadata": {
        "id": "_noOJlPEM1xu"
      },
      "source": [
        "# Dataset-Download"
      ]
    },
    {
      "cell_type": "code",
      "metadata": {
        "id": "G8_MMOX0H8xf"
      },
      "source": [
        "from IPython.display import clear_output\n",
        "!pip install -q kaggle\n",
        "!mkdir ~/.kaggle/\n",
        "!cp kaggle.json ~/.kaggle/kaggle.json\n",
        "!chmod 600 ~/.kaggle/kaggle.json\n",
        "!kaggle datasets download -d bibhash123/djpeg-ex1p3\n",
        "!unzip djpeg-ex1p3.zip -d '/content/DCR/'\n",
        "clear_output(wait=False)"
      ],
      "execution_count": null,
      "outputs": []
    },
    {
      "cell_type": "code",
      "source": [
        "! git clone https://github.com/Bibhash123/Resizing_Forensics.git"
      ],
      "metadata": {
        "id": "TfZhfW5jsdKn",
        "outputId": "80c96a1b-75bc-473c-92b8-20b05027b835",
        "colab": {
          "base_uri": "https://localhost:8080/"
        }
      },
      "execution_count": null,
      "outputs": [
        {
          "output_type": "stream",
          "name": "stdout",
          "text": [
            "Cloning into 'Resizing_Forensics'...\n",
            "remote: Enumerating objects: 47, done.\u001b[K\n",
            "remote: Counting objects: 100% (47/47), done.\u001b[K\n",
            "remote: Compressing objects: 100% (40/40), done.\u001b[K\n",
            "remote: Total 47 (delta 12), reused 8 (delta 1), pack-reused 0\u001b[K\n",
            "Unpacking objects: 100% (47/47), done.\n"
          ]
        }
      ]
    },
    {
      "cell_type": "markdown",
      "metadata": {
        "id": "KwNUjHiUM5b9"
      },
      "source": [
        "# Model Preparation"
      ]
    },
    {
      "cell_type": "code",
      "metadata": {
        "id": "eZmuA4cPKtMu"
      },
      "source": [
        "import os\n",
        "import numpy as np\n",
        "import cv2\n",
        "import matplotlib.pyplot as plt\n",
        "import tensorflow as tf\n",
        "import tensorflow.keras.layers as L\n",
        "import tensorflow.keras.backend as K"
      ],
      "execution_count": null,
      "outputs": []
    },
    {
      "cell_type": "code",
      "metadata": {
        "id": "BAk7kLwAJuk3"
      },
      "source": [
        "PATH = '/content/DCR/'\n",
        "factor = lambda x: x.split('.jpg')[0].split('rf_')[-1]"
      ],
      "execution_count": null,
      "outputs": []
    },
    {
      "cell_type": "markdown",
      "metadata": {
        "id": "r11r7c29Jp6o"
      },
      "source": [
        "## Filter Layer"
      ]
    },
    {
      "cell_type": "code",
      "metadata": {
        "id": "wTEgWf57JwvP"
      },
      "source": [
        "import tensorflow as tf\n",
        "import tensorflow.keras.backend as K\n",
        "import tensorflow.keras.layers as L\n",
        "class PreprocessLayer(L.Layer):\n",
        "  def __init__(self,**kwargs):\n",
        "    super(PreprocessLayer,self).__init__(**kwargs)\n",
        "  \n",
        "  def build(self,input_shape):\n",
        "    self.built=True\n",
        "  #filter definitions\n",
        "  #first third and second defined....to define sq and edge\n",
        "  #elementary filters  \n",
        "  def a1(self,image):\n",
        "    filter = K.constant(np.array([[[[0,0,0,0,0],\n",
        "                        [0,0,0,0,0],\n",
        "                        [0,0,-1,1,0],\n",
        "                        [0,0,0,0,0],\n",
        "                        [0,0,0,0,0]]]]).reshape((5,5,1,1)))\n",
        "    return K.conv2d(image,filter,padding='same')\n",
        "  \n",
        "  def lin_vertical(self,image):\n",
        "    filter = K.constant(np.array([[[[0,0,0,0,0],\n",
        "                        [0,0,1,0,0],\n",
        "                        [0,0,-1,0,0],\n",
        "                        [0,0,0,0,0],\n",
        "                        [0,0,0,0,0]]]]).reshape((5,5,1,1)))\n",
        "    return K.conv2d(image,filter,padding='same')\n",
        "  \n",
        "  def lin_horizontal(self,image):\n",
        "    filter = K.constant(np.array([[[[0,0,0,0,0],\n",
        "                        [0,0,0,0,0],\n",
        "                        [0,1,-1,0,0],\n",
        "                        [0,0,0,0,0],\n",
        "                        [0,0,0,0,0]]]]).reshape((5,5,1,1)))\n",
        "    return K.conv2d(image,filter,padding='same')\n",
        "  \n",
        "  def a2(self,image):\n",
        "    filter = K.constant(np.array([[[[0,0,0,0,0],\n",
        "                        [0,0,0,0,0],\n",
        "                        [0,1,-2,1,0],\n",
        "                        [0,0,0,0,0],\n",
        "                        [0,0,0,0,0]]]]).reshape((5,5,1,1)))\n",
        "    return K.conv2d(image,filter,padding='same')\n",
        "  \n",
        "  def ord2_vertical(self,image):\n",
        "    filter = K.constant(np.array([[[[0,0,0,0,0],\n",
        "                        [0,0,1,0,0],\n",
        "                        [0,0,-2,0,0],\n",
        "                        [0,0,1,0,0],\n",
        "                        [0,0,0,0,0]]]]).reshape((5,5,1,1)))\n",
        "    return K.conv2d(image,filter,padding='same')\n",
        "\n",
        "  def a3(self,image):\n",
        "    filter = K.constant(np.array([[[[0,0,0,0,0],\n",
        "                        [0,0,0,0,0],\n",
        "                        [0,1,-3,3,-1],\n",
        "                        [0,0,0,0,0],\n",
        "                        [0,0,0,0,0]]]]).reshape((5,5,1,1)))\n",
        "    return K.conv2d(image,filter,padding='same')\n",
        "  \n",
        "  def ord3_horizontal(self,image):\n",
        "    filter = K.constant(np.array([[[[0,0,0,0,0],\n",
        "                        [0,0,0,0,0],\n",
        "                        [-1,3,-3,1,0],\n",
        "                        [0,0,0,0,0],\n",
        "                        [0,0,0,0,0]]]]).reshape((5,5,1,1)))\n",
        "    return K.conv2d(image,filter,padding='same')\n",
        "  \n",
        "  def ord3_vertical(self,image):\n",
        "    filter = K.constant(np.array([[[[0,0,-1,0,0],\n",
        "                        [0,0,3,0,0],\n",
        "                        [0,0,-3,0,0],\n",
        "                        [0,0,1,0,0],\n",
        "                        [0,0,0,0,0]]]]).reshape((5,5,1,1)))\n",
        "    return K.conv2d(image,filter,padding='same')\n",
        "\n",
        "  #minmax filters\n",
        "  def b1(self,image):\n",
        "    return K.minimum(self.a1(image),self.lin_horizontal(image))\n",
        "  \n",
        "  def c1(self,image):\n",
        "    return K.minimum(self.a1(image),self.lin_vertical(image))\n",
        "  \n",
        "  def d1(self,image):\n",
        "    return K.minimum(self.c1(image),self.lin_horizontal(image))\n",
        "  \n",
        "  def b2(self,image):\n",
        "    return K.minimum(self.a2(image),self.ord2_vertical(image))\n",
        "  \n",
        "  def b3(self,image):\n",
        "    return K.minimum(self.a3(image),self.ord3_horizontal(image))\n",
        "  \n",
        "  def c3(self,image):\n",
        "    return K.minimum(self.a3(image),self.ord3_vertical(image))\n",
        "  \n",
        "  def d3(self,image):\n",
        "    return K.minimum(self.c3(image),self.ord3_horizontal(image))\n",
        "  \n",
        "  #square filters\n",
        "  def s3a(self,image):\n",
        "    filter = K.constant(np.array([[[[0,0,0,0,0],\n",
        "                        [0,-1,2,-1,0],\n",
        "                        [0,2,-4,2,0],\n",
        "                        [0,-1,2,-1,0],\n",
        "                        [0,0,0,0,0]]]]).reshape((5,5,1,1)))\n",
        "    return K.conv2d(image,filter,padding='same')\n",
        "  \n",
        "  def s5a(self,image):\n",
        "    filter = K.constant(np.array([[[[-1,2,-2,2,-1],\n",
        "                        [2,-6,8,-6,2],\n",
        "                        [-2,8,-12,8,-2],\n",
        "                        [2,-6,8,-6,2],\n",
        "                        [-1,2,-2,2,-1]]]]).reshape((5,5,1,1)))\n",
        "    return K.conv2d(image,filter,padding='same')\n",
        "  \n",
        "  #edge filters\n",
        "  def e3_vertical_l(self,image):\n",
        "    filter = K.constant(np.array([[[[0,0,0,0,0],\n",
        "                        [0,-1,2,0,0],\n",
        "                        [0,2,-4,0,0],\n",
        "                        [0,-1,2,0,0],\n",
        "                        [0,0,0,0,0]]]]).reshape((5,5,1,1)))\n",
        "    return K.conv2d(image,filter,padding='same')\n",
        "  \n",
        "  def e3_horizontal(self,image):\n",
        "    filter = K.constant(np.array([[[[0,0,0,0,0],\n",
        "                        [0,0,0,0,0],\n",
        "                        [0,2,-4,2,0],\n",
        "                        [0,-1,2,-1,0],\n",
        "                        [0,0,0,0,0]]]]).reshape((5,5,1,1)))\n",
        "    return K.conv2d(image,filter,padding='same')\n",
        "\n",
        "  def e3_vertical_r(self,image):\n",
        "    filter = K.constant(np.array([[[[0,0,0,0,0],\n",
        "                        [0,0,2,-1,0],\n",
        "                        [0,0,-4,2,0],\n",
        "                        [0,0,2,-1,0],\n",
        "                        [0,0,0,0,0]]]]).reshape((5,5,1,1)))\n",
        "    return K.conv2d(image,filter,padding='same')\n",
        "  \n",
        "  def e3a(self,image):\n",
        "    filter = K.constant(np.array([[[[0,0,0,0,0],\n",
        "                        [0,-1,2,-1,0],\n",
        "                        [0,2,-4,2,0],\n",
        "                        [0,0,0,0,0],\n",
        "                        [0,0,0,0,0]]]]).reshape((5,5,1,1)))\n",
        "    return K.conv2d(image,filter,padding='same')\n",
        "  \n",
        "  def e3b(self,image):\n",
        "    return K.minimum(self.e3a(image),self.e3_vertical_l(image))\n",
        "  \n",
        "  def e3c(self,image):\n",
        "    return K.minimum(self.e3a(image),self.e3_horizontal(image))\n",
        "  \n",
        "  def e3d(self,image):\n",
        "    return K.minimum(self.e3c(image),K.minimum(self.e3_vertical_l(image),self.e3_vertical_r(image)))\n",
        "  \n",
        "  def e5_vertical_l(self,image):\n",
        "    filter = K.constant(np.array([[[[-1,2,-2,0,0],\n",
        "                        [2,-6,8,0,0],\n",
        "                        [-2,8,-12,0,0],\n",
        "                        [2,-6,8,0,0],\n",
        "                        [-1,2,-2,0,0]]]]).reshape((5,5,1,1)))\n",
        "    return K.conv2d(image,filter,padding='same')\n",
        "  \n",
        "  def e5_vertical_r(self,image):\n",
        "    filter = K.constant(np.array([[[[0,0,-2,2,-1],\n",
        "                        [0,0,8,-6,2],\n",
        "                        [0,0,-12,8,-2],\n",
        "                        [0,0,8,-6,2],\n",
        "                        [0,0,-2,2,-1]]]]).reshape((5,5,1,1)))\n",
        "    return K.conv2d(image,filter,padding='same')\n",
        "  \n",
        "  def e5_horizontal(self,image):\n",
        "    filter = K.constant(np.array([[[[0,0,0,0,0],\n",
        "                        [0,0,0,0,0],\n",
        "                        [-2,8,-12,8,-2],\n",
        "                        [2,-6,8,-6,2],\n",
        "                        [-1,2,-2,2,-1]]]]).reshape((5,5,1,1)))\n",
        "    return K.conv2d(image,filter,padding='same')\n",
        "  \n",
        "  def e5a(self,image):\n",
        "    filter = K.constant(np.array([[[[-1,2,-2,2,-1],\n",
        "                        [2,-6,8,-6,2],\n",
        "                        [-2,8,-12,8,-2],\n",
        "                        [0,0,0,0,0],\n",
        "                        [0,0,0,0,0]]]]).reshape((5,5,1,1)))\n",
        "    return K.conv2d(image,filter,padding='same')\n",
        "  \n",
        "  def e5b(self,image):\n",
        "    return K.minimum(self.e5a(image),self.e5_vertical_l(image))\n",
        "  \n",
        "  def e5c(self,image):\n",
        "    return K.minimum(self.e5a(image),self.e5_horizontal(image))\n",
        "  \n",
        "  def e5d(self,image):\n",
        "    return K.minimum(self.e5c(image),K.minimum(self.e5_vertical_l(image),self.e5_vertical_r(image)))\n",
        "\n",
        "  # refer TIFS-SRM 2012 paper to understand filters (Page No 5)\n",
        "  def call(self,image):\n",
        "    return K.stack([self.a1(image)[:,:,:,0],             #corresponds 1a)\n",
        "                                self.b1(image)[:,:,:,0], #corresponds 1b)\n",
        "                                self.c1(image)[:,:,:,0], #corresponds 1c)\n",
        "                                self.d1(image)[:,:,:,0], #corresponds 1d)\n",
        "                                self.a2(image)[:,:,:,0], #corresponds 2a)\n",
        "                                self.b2(image)[:,:,:,0], #corresponds 2b)\n",
        "                                self.a3(image)[:,:,:,0], #corresponds 3rd order defined similar to 1a)\n",
        "                                self.b3(image)[:,:,:,0], #corresponds 3rd order defined similar to 1b)\n",
        "                                self.c3(image)[:,:,:,0], #corresponds 3rd order defined similar to 1c)\n",
        "                                self.d3(image)[:,:,:,0], #corresponds 3rd order defined similar to 1d)\n",
        "                                self.s3a(image)[:,:,:,0],#square 3x3 refer S3a)\n",
        "                                self.s5a(image)[:,:,:,0],#square 5x5 refer S5a)\n",
        "                                self.e3a(image)[:,:,:,0],#edge 3x3 refer E3a)\n",
        "                                self.e3b(image)[:,:,:,0],#edge 3x3 refer E3b)\n",
        "                                self.e3c(image)[:,:,:,0],#edge 3x3 refer E3c)\n",
        "                                self.e3d(image)[:,:,:,0],#edge 3x3 refer E3d)\n",
        "                                self.e5a(image)[:,:,:,0],#edge 5x5 similar to E3a)\n",
        "                                self.e5b(image)[:,:,:,0],#edge 5x5 similar to E3a)\n",
        "                                self.e5c(image)[:,:,:,0],#edge 5x5 similar to E3a)\n",
        "                                self.e5d(image)[:,:,:,0],#edge 5x5 similar to E3a)\n",
        "                                ],axis=3)\n",
        "  def get_output_shape(self,input_shape):\n",
        "    return (input_shape[0],input_shape[1],input_shape[2],20)"
      ],
      "execution_count": null,
      "outputs": []
    },
    {
      "cell_type": "code",
      "metadata": {
        "id": "b3phzCJA7J0K"
      },
      "source": [
        "class ConvConst(tf.keras.models.Model):\n",
        "  def __init__(self,num_classes=10):\n",
        "    super(ConvConst,self).__init__()\n",
        "    self.n_classes = num_classes\n",
        "    #self.block1 = PreprocessLayer()\n",
        "    \n",
        "    self.block2 = tf.keras.models.Sequential([\n",
        "                                              L.Conv2D(96,(7,7),strides=2),\n",
        "                                              L.BatchNormalization(),\n",
        "                                              L.Activation('tanh'),\n",
        "                                              L.MaxPool2D(pool_size=(3,3),strides=2)\n",
        "    ])\n",
        "    self.block3 = tf.keras.models.Sequential([\n",
        "                                             L.Conv2D(64,(5,5),strides=1),\n",
        "                                             L.BatchNormalization()\n",
        "    ])\n",
        "    self.block4 = tf.keras.models.Sequential([\n",
        "                                             L.Conv2D(64,(5,5),strides=1),\n",
        "                                             L.BatchNormalization(),\n",
        "                                             L.Activation('tanh'),\n",
        "                                             L.MaxPool2D(pool_size=(3,3),strides=2)\n",
        "    ])\n",
        "    self.block5 = tf.keras.models.Sequential([\n",
        "                                             L.Conv2D(128,(1,1),strides=1),\n",
        "                                             L.BatchNormalization(),\n",
        "                                             L.Activation('tanh'),\n",
        "                                             L.AveragePooling2D(pool_size=(3,3),strides=2)\n",
        "    ])\n",
        "\n",
        "    self.fc1 = L.Dense(200)\n",
        "    self.fc2 = L.Dense(200)\n",
        "    self.fc3 = L.Dense(num_classes,activation=\"softmax\")\n",
        "\n",
        "  def call(self,inputs,**kwargs):\n",
        "    #out = self.block1(inputs)\n",
        "    out = self.block2(inputs)\n",
        "    out = self.block3(out)\n",
        "    out = self.block4(out)\n",
        "    out = self.block5(out)\n",
        "\n",
        "    out = L.Flatten()(out)\n",
        "\n",
        "    out = self.fc1(out)\n",
        "    out = self.fc2(out)\n",
        "    out = self.fc3(out)\n",
        "    return out"
      ],
      "execution_count": null,
      "outputs": []
    },
    {
      "cell_type": "code",
      "metadata": {
        "id": "ZhJWvZqonQxt"
      },
      "source": [
        "K.clear_session()\n",
        "model = ConvConst(num_classes=10)\n",
        "model.compile(loss = 'sparse_categorical_crossentropy',optimizer=tf.keras.optimizers.Adam(learning_rate=0.003),metrics=[\"accuracy\"])\n",
        "model.build((None,256,256,1))\n",
        "\n",
        "model.layers[0].trainable=False"
      ],
      "execution_count": null,
      "outputs": []
    },
    {
      "cell_type": "code",
      "metadata": {
        "id": "HINZj5RVoZeO",
        "colab": {
          "base_uri": "https://localhost:8080/"
        },
        "outputId": "6b9706c4-7b1f-485c-b830-0a52df2463db"
      },
      "source": [
        "model.summary()"
      ],
      "execution_count": null,
      "outputs": [
        {
          "output_type": "stream",
          "name": "stdout",
          "text": [
            "Model: \"conv_const\"\n",
            "_________________________________________________________________\n",
            " Layer (type)                Output Shape              Param #   \n",
            "=================================================================\n",
            " sequential (Sequential)     (None, 62, 62, 96)        5184      \n",
            "                                                                 \n",
            " sequential_1 (Sequential)   (None, 58, 58, 64)        153920    \n",
            "                                                                 \n",
            " sequential_2 (Sequential)   (None, 26, 26, 64)        102720    \n",
            "                                                                 \n",
            " sequential_3 (Sequential)   (None, 12, 12, 128)       8832      \n",
            "                                                                 \n",
            " dense (Dense)               multiple                  3686600   \n",
            "                                                                 \n",
            " dense_1 (Dense)             multiple                  40200     \n",
            "                                                                 \n",
            " dense_2 (Dense)             multiple                  2010      \n",
            "                                                                 \n",
            "=================================================================\n",
            "Total params: 3,999,466\n",
            "Trainable params: 3,993,770\n",
            "Non-trainable params: 5,696\n",
            "_________________________________________________________________\n"
          ]
        }
      ]
    },
    {
      "cell_type": "code",
      "metadata": {
        "id": "VPZJOXNIAH54"
      },
      "source": [
        "#import sys\n",
        "#del sys.modules[\"DataLoader\"]\n",
        "#del sys.modules[\"const\"]"
      ],
      "execution_count": null,
      "outputs": []
    },
    {
      "cell_type": "markdown",
      "metadata": {
        "id": "epK5sqOzM_I9"
      },
      "source": [
        "# Model Training"
      ]
    },
    {
      "cell_type": "code",
      "metadata": {
        "id": "uUgBH1Usojvd"
      },
      "source": [
        "from DataLoader import *\n",
        "from const import loss_plt"
      ],
      "execution_count": null,
      "outputs": []
    },
    {
      "cell_type": "code",
      "metadata": {
        "id": "wzYaKfz08G-O"
      },
      "source": [
        "RF = [0.6,0.7,0.8,0.9,0.95,1.05,1.1,1.2,1.3,1.4]"
      ],
      "execution_count": null,
      "outputs": []
    },
    {
      "cell_type": "code",
      "metadata": {
        "id": "_fQnq0Qc90Iv"
      },
      "source": [
        "load = DataLoader(path ='/content/DCR/train/',val_path = '/content/DCR/val/',merge=False,rfs =RF)\n",
        "\n",
        "train = load.flow(batch_size=64)\n",
        "val = load.val_flow(batch_size=64)\n",
        "   \n",
        "#early stopping            \n",
        "early_stop = tf.keras.callbacks.EarlyStopping(patience=10,monitor='val_accuracy',mode='max')\n",
        "#loss curves and log writing\n",
        "loss_plot = loss_plt()\n",
        "#check point\n",
        "chckpt = tf.keras.callbacks.ModelCheckpoint('model.hdf5',monitor='val_accuracy',mode='max',save_best_only=True,save_weights_only=True)\n",
        "lr_plateau = tf.keras.callbacks.ReduceLROnPlateau(monitor='val_loss',mode='min',patience=5,factor=0.8)"
      ],
      "execution_count": null,
      "outputs": []
    },
    {
      "cell_type": "code",
      "metadata": {
        "colab": {
          "base_uri": "https://localhost:8080/",
          "height": 458
        },
        "id": "2MDr3QHjCirU",
        "outputId": "ffe6564d-f484-40e6-f17a-a2097590cc65"
      },
      "source": [
        "model.fit(train,\n",
        "          steps_per_epoch = int(len(load.files)/64),\n",
        "          epochs = 50,\n",
        "          validation_data = val,\n",
        "          validation_steps= int(len(load.val_files)/64),\n",
        "          callbacks=[loss_plot,chckpt,lr_plateau],\n",
        "          verbose=1\n",
        "          )"
      ],
      "execution_count": null,
      "outputs": [
        {
          "output_type": "display_data",
          "data": {
            "text/plain": [
              "<Figure size 720x360 with 2 Axes>"
            ],
            "image/png": "[encoded data removed]"
          },
          "metadata": {
            "needs_background": "light"
          }
        },
        {
          "output_type": "stream",
          "name": "stdout",
          "text": [
            "epoch 42/50 loss: 0.247 accuracy: 0.9190 val_loss: 5.235 val_accuracy:0.4126\n",
            "\b\b\b\b\b\b\b\b\b\b\b\b\b\b\b\b\b\b\b\b\b\b\b\b\b\b\b\b\b\b\b\b\b\b\b\b\b\b\b\b\b\b\b\b\b\b\b\b\b\b\b\b\b\b\b\b\b\b\b\b\b\b\b\b\b\b\b\b\b\b\b\b\b\b\b\b\b\b\b\b\b\b\b\b\r412/412 [==============================] - 510s 1s/step - loss: 0.2475 - accuracy: 0.9190 - val_loss: 5.2345 - val_accuracy: 0.4126 - lr: 5.0332e-04\n",
            "Epoch 43/50\n",
            "342/412 [=======================>......] - ETA: 1:18 - loss: 0.2365 - accuracy: 0.9208"
          ]
        }
      ]
    },
    {
      "cell_type": "markdown",
      "metadata": {
        "id": "96xqn1liNB4m"
      },
      "source": [
        "# Model-Testing"
      ]
    },
    {
      "cell_type": "code",
      "metadata": {
        "id": "yCxNoIIKXqLN"
      },
      "source": [
        "~q      model.load_weights('model.hdf5')"
      ],
      "execution_count": null,
      "outputs": []
    },
    {
      "cell_type": "code",
      "metadata": {
        "id": "_MZlGueyXqLb"
      },
      "source": [
        "import glob\n",
        "from tqdm.notebook import tqdm\n",
        "from sklearn.metrics import accuracy_score"
      ],
      "execution_count": null,
      "outputs": []
    },
    {
      "cell_type": "code",
      "metadata": {
        "id": "FnSNUt6E2tH7"
      },
      "source": [
        "files = [fn for fn in glob.glob(os.path.join('/content/DCR/test','*.jpg'))]"
      ],
      "execution_count": null,
      "outputs": []
    },
    {
      "cell_type": "code",
      "metadata": {
        "id": "d6MBWA-hXqLc",
        "colab": {
          "base_uri": "https://localhost:8080/",
          "height": 66,
          "referenced_widgets": [
            "c3f42c37cc29486c9f4963fab0842998",
            "33daac0678734f0eb587034feae27dec",
            "a14d51cc572e4fde806769c3d906e0db",
            "7f88cbb94d144ef2a57f661962a102ee",
            "6f52437636114029a15a8cb1cf54a0de",
            "253756d011c645e1a330c2536bc4b131",
            "c4259499d9234afaa1e026904910be9d",
            "f66dfea841cc4ddf994ec21cbb363ee3"
          ]
        },
        "outputId": "f97d05e4-65e1-43c3-9cb1-1219ff3c0e60"
      },
      "source": [
        "def crop_image(img):\n",
        "    mid = (int(img.shape[0]/2),int(img.shape[1]/2))\n",
        "    return img[mid[0]-128:mid[0]+128,mid[1]-128:mid[1]+128]\n",
        "\n",
        "class_dict = dict(zip(RF,range(len(RF))))\n",
        "label = lambda x: class_dict[float(x.split('.jpg')[0].split('rf_')[-1])]\n",
        "\n",
        "images = []\n",
        "labels = []\n",
        "for f in tqdm(files):\n",
        "  image = cv2.cvtColor(cv2.imread(f),cv2.COLOR_BGR2GRAY)\n",
        "  image = np.expand_dims(crop_image(image),axis=2).astype(np.float32)\n",
        "  labels.append(label(f.split('/')[-1]))\n",
        "  images.append(image)\n",
        "  "
      ],
      "execution_count": null,
      "outputs": [
        {
          "output_type": "display_data",
          "data": {
            "application/vnd.jupyter.widget-view+json": {
              "model_id": "c3f42c37cc29486c9f4963fab0842998",
              "version_minor": 0,
              "version_major": 2
            },
            "text/plain": [
              "HBox(children=(FloatProgress(value=0.0, max=3300.0), HTML(value='')))"
            ]
          },
          "metadata": {
            "tags": []
          }
        },
        {
          "output_type": "stream",
          "text": [
            "\n"
          ],
          "name": "stdout"
        }
      ]
    },
    {
      "cell_type": "code",
      "metadata": {
        "colab": {
          "base_uri": "https://localhost:8080/"
        },
        "id": "Ct5FcVqhXqLd",
        "outputId": "3c0d7734-6bc3-44a6-ba09-08a1e09eb36c"
      },
      "source": [
        "pred = [np.argmax(p) for p in model.predict(np.stack(images))]\n",
        "accuracy_score(labels,pred)"
      ],
      "execution_count": 1,
      "outputs": [
        {
          "output_type": "execute_result",
          "data": {
            "text/plain": [
              "0.4036363636363636"
            ]
          },
          "metadata": {},
          "execution_count": 1
        }
      ]
    },
    {
      "cell_type": "code",
      "metadata": {
        "colab": {
          "base_uri": "https://localhost:8080/"
        },
        "id": "vYx8E0yO4MH4",
        "outputId": "5f14f44b-0861-4423-815e-fe25820cc738"
      },
      "source": [
        "\n",
        "from accuracyMatrix_1 import matrix\n",
        "from utilities import *\n"
      ],
      "execution_count": null,
      "outputs": [
        {
          "output_type": "stream",
          "text": [
            "Mounted at /content/gdrive\n"
          ],
          "name": "stdout"
        }
      ]
    },
    {
      "cell_type": "markdown",
      "metadata": {
        "id": "bnC5piZoNJ54"
      },
      "source": [
        "## All-Factors"
      ]
    },
    {
      "cell_type": "code",
      "source": [],
      "metadata": {
        "id": "vOTKDCUSQCIR"
      },
      "execution_count": null,
      "outputs": []
    }
  ]
}