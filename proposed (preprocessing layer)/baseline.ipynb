{
  "nbformat": 4,
  "nbformat_minor": 0,
  "metadata": {
    "colab": {
      "name": "Proposed Method.ipynb",
      "provenance": [],
      "collapsed_sections": []
    },
    "kernelspec": {
      "name": "python3",
      "display_name": "Python 3"
    },
    "language_info": {
      "name": "python"
    },
    "accelerator": "GPU",
    "gpuClass": "standard",
    "widgets": {
      "application/vnd.jupyter.widget-state+json": {
        "ebeb7bffbfbc42ac85e9fd80af583a4d": {
          "model_module": "@jupyter-widgets/controls",
          "model_name": "HBoxModel",
          "model_module_version": "1.5.0",
          "state": {
            "_dom_classes": [],
            "_model_module": "@jupyter-widgets/controls",
            "_model_module_version": "1.5.0",
            "_model_name": "HBoxModel",
            "_view_count": null,
            "_view_module": "@jupyter-widgets/controls",
            "_view_module_version": "1.5.0",
            "_view_name": "HBoxView",
            "box_style": "",
            "children": [
              "IPY_MODEL_3298f075db874a3698e039b987be1c4e",
              "IPY_MODEL_9bc581cdd22d48a4a7a9b3de11b1e9a0",
              "IPY_MODEL_8ae373f2f3114546833d9db3f91a7658"
            ],
            "layout": "IPY_MODEL_02fa1bf967174351a9c2e7bcd3309b9f"
          }
        },
        "3298f075db874a3698e039b987be1c4e": {
          "model_module": "@jupyter-widgets/controls",
          "model_name": "HTMLModel",
          "model_module_version": "1.5.0",
          "state": {
            "_dom_classes": [],
            "_model_module": "@jupyter-widgets/controls",
            "_model_module_version": "1.5.0",
            "_model_name": "HTMLModel",
            "_view_count": null,
            "_view_module": "@jupyter-widgets/controls",
            "_view_module_version": "1.5.0",
            "_view_name": "HTMLView",
            "description": "",
            "description_tooltip": null,
            "layout": "IPY_MODEL_1bcc2ef4fb964c31a05acfb27c6612f9",
            "placeholder": "​",
            "style": "IPY_MODEL_e3e13ecc47234dc2917a590786a18566",
            "value": "100%"
          }
        },
        "9bc581cdd22d48a4a7a9b3de11b1e9a0": {
          "model_module": "@jupyter-widgets/controls",
          "model_name": "FloatProgressModel",
          "model_module_version": "1.5.0",
          "state": {
            "_dom_classes": [],
            "_model_module": "@jupyter-widgets/controls",
            "_model_module_version": "1.5.0",
            "_model_name": "FloatProgressModel",
            "_view_count": null,
            "_view_module": "@jupyter-widgets/controls",
            "_view_module_version": "1.5.0",
            "_view_name": "ProgressView",
            "bar_style": "success",
            "description": "",
            "description_tooltip": null,
            "layout": "IPY_MODEL_50b3d2110f664cdf9dfa648e57072f5f",
            "max": 3300,
            "min": 0,
            "orientation": "horizontal",
            "style": "IPY_MODEL_d6dda498490f474b865f82dadb8f4956",
            "value": 3300
          }
        },
        "8ae373f2f3114546833d9db3f91a7658": {
          "model_module": "@jupyter-widgets/controls",
          "model_name": "HTMLModel",
          "model_module_version": "1.5.0",
          "state": {
            "_dom_classes": [],
            "_model_module": "@jupyter-widgets/controls",
            "_model_module_version": "1.5.0",
            "_model_name": "HTMLModel",
            "_view_count": null,
            "_view_module": "@jupyter-widgets/controls",
            "_view_module_version": "1.5.0",
            "_view_name": "HTMLView",
            "description": "",
            "description_tooltip": null,
            "layout": "IPY_MODEL_74c36c3c353c43fdb2db1cc06ccc4c57",
            "placeholder": "​",
            "style": "IPY_MODEL_f33ea5d97d9f413bbaed27bd00e064d6",
            "value": " 3300/3300 [00:54&lt;00:00, 74.05it/s]"
          }
        },
        "02fa1bf967174351a9c2e7bcd3309b9f": {
          "model_module": "@jupyter-widgets/base",
          "model_name": "LayoutModel",
          "model_module_version": "1.2.0",
          "state": {
            "_model_module": "@jupyter-widgets/base",
            "_model_module_version": "1.2.0",
            "_model_name": "LayoutModel",
            "_view_count": null,
            "_view_module": "@jupyter-widgets/base",
            "_view_module_version": "1.2.0",
            "_view_name": "LayoutView",
            "align_content": null,
            "align_items": null,
            "align_self": null,
            "border": null,
            "bottom": null,
            "display": null,
            "flex": null,
            "flex_flow": null,
            "grid_area": null,
            "grid_auto_columns": null,
            "grid_auto_flow": null,
            "grid_auto_rows": null,
            "grid_column": null,
            "grid_gap": null,
            "grid_row": null,
            "grid_template_areas": null,
            "grid_template_columns": null,
            "grid_template_rows": null,
            "height": null,
            "justify_content": null,
            "justify_items": null,
            "left": null,
            "margin": null,
            "max_height": null,
            "max_width": null,
            "min_height": null,
            "min_width": null,
            "object_fit": null,
            "object_position": null,
            "order": null,
            "overflow": null,
            "overflow_x": null,
            "overflow_y": null,
            "padding": null,
            "right": null,
            "top": null,
            "visibility": null,
            "width": null
          }
        },
        "1bcc2ef4fb964c31a05acfb27c6612f9": {
          "model_module": "@jupyter-widgets/base",
          "model_name": "LayoutModel",
          "model_module_version": "1.2.0",
          "state": {
            "_model_module": "@jupyter-widgets/base",
            "_model_module_version": "1.2.0",
            "_model_name": "LayoutModel",
            "_view_count": null,
            "_view_module": "@jupyter-widgets/base",
            "_view_module_version": "1.2.0",
            "_view_name": "LayoutView",
            "align_content": null,
            "align_items": null,
            "align_self": null,
            "border": null,
            "bottom": null,
            "display": null,
            "flex": null,
            "flex_flow": null,
            "grid_area": null,
            "grid_auto_columns": null,
            "grid_auto_flow": null,
            "grid_auto_rows": null,
            "grid_column": null,
            "grid_gap": null,
            "grid_row": null,
            "grid_template_areas": null,
            "grid_template_columns": null,
            "grid_template_rows": null,
            "height": null,
            "justify_content": null,
            "justify_items": null,
            "left": null,
            "margin": null,
            "max_height": null,
            "max_width": null,
            "min_height": null,
            "min_width": null,
            "object_fit": null,
            "object_position": null,
            "order": null,
            "overflow": null,
            "overflow_x": null,
            "overflow_y": null,
            "padding": null,
            "right": null,
            "top": null,
            "visibility": null,
            "width": null
          }
        },
        "e3e13ecc47234dc2917a590786a18566": {
          "model_module": "@jupyter-widgets/controls",
          "model_name": "DescriptionStyleModel",
          "model_module_version": "1.5.0",
          "state": {
            "_model_module": "@jupyter-widgets/controls",
            "_model_module_version": "1.5.0",
            "_model_name": "DescriptionStyleModel",
            "_view_count": null,
            "_view_module": "@jupyter-widgets/base",
            "_view_module_version": "1.2.0",
            "_view_name": "StyleView",
            "description_width": ""
          }
        },
        "50b3d2110f664cdf9dfa648e57072f5f": {
          "model_module": "@jupyter-widgets/base",
          "model_name": "LayoutModel",
          "model_module_version": "1.2.0",
          "state": {
            "_model_module": "@jupyter-widgets/base",
            "_model_module_version": "1.2.0",
            "_model_name": "LayoutModel",
            "_view_count": null,
            "_view_module": "@jupyter-widgets/base",
            "_view_module_version": "1.2.0",
            "_view_name": "LayoutView",
            "align_content": null,
            "align_items": null,
            "align_self": null,
            "border": null,
            "bottom": null,
            "display": null,
            "flex": null,
            "flex_flow": null,
            "grid_area": null,
            "grid_auto_columns": null,
            "grid_auto_flow": null,
            "grid_auto_rows": null,
            "grid_column": null,
            "grid_gap": null,
            "grid_row": null,
            "grid_template_areas": null,
            "grid_template_columns": null,
            "grid_template_rows": null,
            "height": null,
            "justify_content": null,
            "justify_items": null,
            "left": null,
            "margin": null,
            "max_height": null,
            "max_width": null,
            "min_height": null,
            "min_width": null,
            "object_fit": null,
            "object_position": null,
            "order": null,
            "overflow": null,
            "overflow_x": null,
            "overflow_y": null,
            "padding": null,
            "right": null,
            "top": null,
            "visibility": null,
            "width": null
          }
        },
        "d6dda498490f474b865f82dadb8f4956": {
          "model_module": "@jupyter-widgets/controls",
          "model_name": "ProgressStyleModel",
          "model_module_version": "1.5.0",
          "state": {
            "_model_module": "@jupyter-widgets/controls",
            "_model_module_version": "1.5.0",
            "_model_name": "ProgressStyleModel",
            "_view_count": null,
            "_view_module": "@jupyter-widgets/base",
            "_view_module_version": "1.2.0",
            "_view_name": "StyleView",
            "bar_color": null,
            "description_width": ""
          }
        },
        "74c36c3c353c43fdb2db1cc06ccc4c57": {
          "model_module": "@jupyter-widgets/base",
          "model_name": "LayoutModel",
          "model_module_version": "1.2.0",
          "state": {
            "_model_module": "@jupyter-widgets/base",
            "_model_module_version": "1.2.0",
            "_model_name": "LayoutModel",
            "_view_count": null,
            "_view_module": "@jupyter-widgets/base",
            "_view_module_version": "1.2.0",
            "_view_name": "LayoutView",
            "align_content": null,
            "align_items": null,
            "align_self": null,
            "border": null,
            "bottom": null,
            "display": null,
            "flex": null,
            "flex_flow": null,
            "grid_area": null,
            "grid_auto_columns": null,
            "grid_auto_flow": null,
            "grid_auto_rows": null,
            "grid_column": null,
            "grid_gap": null,
            "grid_row": null,
            "grid_template_areas": null,
            "grid_template_columns": null,
            "grid_template_rows": null,
            "height": null,
            "justify_content": null,
            "justify_items": null,
            "left": null,
            "margin": null,
            "max_height": null,
            "max_width": null,
            "min_height": null,
            "min_width": null,
            "object_fit": null,
            "object_position": null,
            "order": null,
            "overflow": null,
            "overflow_x": null,
            "overflow_y": null,
            "padding": null,
            "right": null,
            "top": null,
            "visibility": null,
            "width": null
          }
        },
        "f33ea5d97d9f413bbaed27bd00e064d6": {
          "model_module": "@jupyter-widgets/controls",
          "model_name": "DescriptionStyleModel",
          "model_module_version": "1.5.0",
          "state": {
            "_model_module": "@jupyter-widgets/controls",
            "_model_module_version": "1.5.0",
            "_model_name": "DescriptionStyleModel",
            "_view_count": null,
            "_view_module": "@jupyter-widgets/base",
            "_view_module_version": "1.2.0",
            "_view_name": "StyleView",
            "description_width": ""
          }
        }
      }
    }
  },
  "cells": [
    {
      "cell_type": "markdown",
      "metadata": {
        "id": "S37mt-ruFZHL"
      },
      "source": [
        "In experiment 1.2 we employed five high pass filters in the first (preprocessing) layer in our model. These filters were the following.\n",
        "\n",
        "<ul>\n",
        "<li>5x5 laplacian kernel</li>\n",
        "<li>5x5 Sobel X kernel</li>\n",
        "<li>5x5 Sobel Y kernel</li>\n",
        "<li>5x5 Prewitt X kernel</li>\n",
        "<li>5x5 Prewitt Y kernel</li>\n",
        "</ul>\n",
        "\n",
        "In this experiment, for our first layer filters we will use the 20 filters that have been used for Robust Median Filtering by Yu et al.(link to paper can be found [here](https://sci-hub.se/10.1109/ACCESS.2019.2932810))"
      ]
    },
    {
      "cell_type": "markdown",
      "metadata": {
        "id": "_noOJlPEM1xu"
      },
      "source": [
        "# Dataset-Download"
      ]
    },
    {
      "cell_type": "code",
      "metadata": {
        "id": "G8_MMOX0H8xf"
      },
      "source": [
        "from IPython.display import clear_output\n",
        "!pip install -q kaggle\n",
        "!mkdir ~/.kaggle/\n",
        "!cp kaggle.json ~/.kaggle/kaggle.json\n",
        "!chmod 600 ~/.kaggle/kaggle.json\n",
        "!kaggle datasets download -d bibhash123/djpeg-ex1p3\n",
        "!unzip djpeg-ex1p3.zip -d '/content/DCR/'\n",
        "clear_output(wait=False)"
      ],
      "execution_count": 6,
      "outputs": []
    },
    {
      "cell_type": "code",
      "source": [
        "from google.colab import drive\n",
        "drive.mount('/content/drive',force_remount=True)"
      ],
      "metadata": {
        "id": "l2HbMRJr8zTD",
        "outputId": "d4eb5593-5efa-4f7b-8ac4-b61bba8fffa3",
        "colab": {
          "base_uri": "https://localhost:8080/"
        }
      },
      "execution_count": 16,
      "outputs": [
        {
          "output_type": "stream",
          "name": "stdout",
          "text": [
            "Mounted at /content/drive\n"
          ]
        }
      ]
    },
    {
      "cell_type": "code",
      "source": [
        "! git clone https://github.com/Bibhash123/Resizing_Forensics.git"
      ],
      "metadata": {
        "id": "TfZhfW5jsdKn",
        "outputId": "850226b9-2066-42d6-c35e-95973f7920f3",
        "colab": {
          "base_uri": "https://localhost:8080/"
        }
      },
      "execution_count": 2,
      "outputs": [
        {
          "output_type": "stream",
          "name": "stdout",
          "text": [
            "Cloning into 'Resizing_Forensics'...\n",
            "remote: Enumerating objects: 47, done.\u001b[K\n",
            "remote: Counting objects: 100% (47/47), done.\u001b[K\n",
            "remote: Compressing objects: 100% (40/40), done.\u001b[K\n",
            "remote: Total 47 (delta 12), reused 8 (delta 1), pack-reused 0\u001b[K\n",
            "Unpacking objects: 100% (47/47), done.\n"
          ]
        }
      ]
    },
    {
      "cell_type": "code",
      "source": [
        "from google.colab import drive\n",
        "drive.mount('/content/drive')"
      ],
      "metadata": {
        "id": "fRx1ugl0-o7C"
      },
      "execution_count": null,
      "outputs": []
    },
    {
      "cell_type": "markdown",
      "metadata": {
        "id": "KwNUjHiUM5b9"
      },
      "source": [
        "# Model Preparation"
      ]
    },
    {
      "cell_type": "code",
      "metadata": {
        "id": "eZmuA4cPKtMu"
      },
      "source": [
        "import os\n",
        "import numpy as np\n",
        "import cv2\n",
        "import matplotlib.pyplot as plt\n",
        "import tensorflow as tf\n",
        "import tensorflow.keras.layers as L\n",
        "import tensorflow.keras.backend as K"
      ],
      "execution_count": 17,
      "outputs": []
    },
    {
      "cell_type": "code",
      "metadata": {
        "id": "BAk7kLwAJuk3"
      },
      "source": [
        "PATH = '/content/DCR/'\n",
        "factor = lambda x: x.split('.jpg')[0].split('rf_')[-1]"
      ],
      "execution_count": 18,
      "outputs": []
    },
    {
      "cell_type": "markdown",
      "metadata": {
        "id": "r11r7c29Jp6o"
      },
      "source": [
        "## Filter Layer"
      ]
    },
    {
      "cell_type": "code",
      "metadata": {
        "id": "wTEgWf57JwvP"
      },
      "source": [
        "import tensorflow as tf\n",
        "import tensorflow.keras.backend as K\n",
        "import tensorflow.keras.layers as L\n",
        "class PreprocessLayer(L.Layer):\n",
        "  def __init__(self,**kwargs):\n",
        "    super(PreprocessLayer,self).__init__(**kwargs)\n",
        "  \n",
        "  def build(self,input_shape):\n",
        "    self.built=True\n",
        "  #filter definitions\n",
        "  #first third and second defined....to define sq and edge\n",
        "  #elementary filters  \n",
        "  def a1(self,image):\n",
        "    filter = K.constant(np.array([[[[0,0,0,0,0],\n",
        "                        [0,0,0,0,0],\n",
        "                        [0,0,-1,1,0],\n",
        "                        [0,0,0,0,0],\n",
        "                        [0,0,0,0,0]]]]).reshape((5,5,1,1)))\n",
        "    return K.conv2d(image,filter,padding='same')\n",
        "  \n",
        "  def lin_vertical(self,image):\n",
        "    filter = K.constant(np.array([[[[0,0,0,0,0],\n",
        "                        [0,0,1,0,0],\n",
        "                        [0,0,-1,0,0],\n",
        "                        [0,0,0,0,0],\n",
        "                        [0,0,0,0,0]]]]).reshape((5,5,1,1)))\n",
        "    return K.conv2d(image,filter,padding='same')\n",
        "  \n",
        "  def lin_horizontal(self,image):\n",
        "    filter = K.constant(np.array([[[[0,0,0,0,0],\n",
        "                        [0,0,0,0,0],\n",
        "                        [0,1,-1,0,0],\n",
        "                        [0,0,0,0,0],\n",
        "                        [0,0,0,0,0]]]]).reshape((5,5,1,1)))\n",
        "    return K.conv2d(image,filter,padding='same')\n",
        "  \n",
        "  def a2(self,image):\n",
        "    filter = K.constant(np.array([[[[0,0,0,0,0],\n",
        "                        [0,0,0,0,0],\n",
        "                        [0,1,-2,1,0],\n",
        "                        [0,0,0,0,0],\n",
        "                        [0,0,0,0,0]]]]).reshape((5,5,1,1)))\n",
        "    return K.conv2d(image,filter,padding='same')\n",
        "  \n",
        "  def ord2_vertical(self,image):\n",
        "    filter = K.constant(np.array([[[[0,0,0,0,0],\n",
        "                        [0,0,1,0,0],\n",
        "                        [0,0,-2,0,0],\n",
        "                        [0,0,1,0,0],\n",
        "                        [0,0,0,0,0]]]]).reshape((5,5,1,1)))\n",
        "    return K.conv2d(image,filter,padding='same')\n",
        "\n",
        "  def a3(self,image):\n",
        "    filter = K.constant(np.array([[[[0,0,0,0,0],\n",
        "                        [0,0,0,0,0],\n",
        "                        [0,1,-3,3,-1],\n",
        "                        [0,0,0,0,0],\n",
        "                        [0,0,0,0,0]]]]).reshape((5,5,1,1)))\n",
        "    return K.conv2d(image,filter,padding='same')\n",
        "  \n",
        "  def ord3_horizontal(self,image):\n",
        "    filter = K.constant(np.array([[[[0,0,0,0,0],\n",
        "                        [0,0,0,0,0],\n",
        "                        [-1,3,-3,1,0],\n",
        "                        [0,0,0,0,0],\n",
        "                        [0,0,0,0,0]]]]).reshape((5,5,1,1)))\n",
        "    return K.conv2d(image,filter,padding='same')\n",
        "  \n",
        "  def ord3_vertical(self,image):\n",
        "    filter = K.constant(np.array([[[[0,0,-1,0,0],\n",
        "                        [0,0,3,0,0],\n",
        "                        [0,0,-3,0,0],\n",
        "                        [0,0,1,0,0],\n",
        "                        [0,0,0,0,0]]]]).reshape((5,5,1,1)))\n",
        "    return K.conv2d(image,filter,padding='same')\n",
        "\n",
        "  #minmax filters\n",
        "  def b1(self,image):\n",
        "    return K.minimum(self.a1(image),self.lin_horizontal(image))\n",
        "  \n",
        "  def c1(self,image):\n",
        "    return K.minimum(self.a1(image),self.lin_vertical(image))\n",
        "  \n",
        "  def d1(self,image):\n",
        "    return K.minimum(self.c1(image),self.lin_horizontal(image))\n",
        "  \n",
        "  def b2(self,image):\n",
        "    return K.minimum(self.a2(image),self.ord2_vertical(image))\n",
        "  \n",
        "  def b3(self,image):\n",
        "    return K.minimum(self.a3(image),self.ord3_horizontal(image))\n",
        "  \n",
        "  def c3(self,image):\n",
        "    return K.minimum(self.a3(image),self.ord3_vertical(image))\n",
        "  \n",
        "  def d3(self,image):\n",
        "    return K.minimum(self.c3(image),self.ord3_horizontal(image))\n",
        "  \n",
        "  #square filters\n",
        "  def s3a(self,image):\n",
        "    filter = K.constant(np.array([[[[0,0,0,0,0],\n",
        "                        [0,-1,2,-1,0],\n",
        "                        [0,2,-4,2,0],\n",
        "                        [0,-1,2,-1,0],\n",
        "                        [0,0,0,0,0]]]]).reshape((5,5,1,1)))\n",
        "    return K.conv2d(image,filter,padding='same')\n",
        "  \n",
        "  def s5a(self,image):\n",
        "    filter = K.constant(np.array([[[[-1,2,-2,2,-1],\n",
        "                        [2,-6,8,-6,2],\n",
        "                        [-2,8,-12,8,-2],\n",
        "                        [2,-6,8,-6,2],\n",
        "                        [-1,2,-2,2,-1]]]]).reshape((5,5,1,1)))\n",
        "    return K.conv2d(image,filter,padding='same')\n",
        "  \n",
        "  #edge filters\n",
        "  def e3_vertical_l(self,image):\n",
        "    filter = K.constant(np.array([[[[0,0,0,0,0],\n",
        "                        [0,-1,2,0,0],\n",
        "                        [0,2,-4,0,0],\n",
        "                        [0,-1,2,0,0],\n",
        "                        [0,0,0,0,0]]]]).reshape((5,5,1,1)))\n",
        "    return K.conv2d(image,filter,padding='same')\n",
        "  \n",
        "  def e3_horizontal(self,image):\n",
        "    filter = K.constant(np.array([[[[0,0,0,0,0],\n",
        "                        [0,0,0,0,0],\n",
        "                        [0,2,-4,2,0],\n",
        "                        [0,-1,2,-1,0],\n",
        "                        [0,0,0,0,0]]]]).reshape((5,5,1,1)))\n",
        "    return K.conv2d(image,filter,padding='same')\n",
        "\n",
        "  def e3_vertical_r(self,image):\n",
        "    filter = K.constant(np.array([[[[0,0,0,0,0],\n",
        "                        [0,0,2,-1,0],\n",
        "                        [0,0,-4,2,0],\n",
        "                        [0,0,2,-1,0],\n",
        "                        [0,0,0,0,0]]]]).reshape((5,5,1,1)))\n",
        "    return K.conv2d(image,filter,padding='same')\n",
        "  \n",
        "  def e3a(self,image):\n",
        "    filter = K.constant(np.array([[[[0,0,0,0,0],\n",
        "                        [0,-1,2,-1,0],\n",
        "                        [0,2,-4,2,0],\n",
        "                        [0,0,0,0,0],\n",
        "                        [0,0,0,0,0]]]]).reshape((5,5,1,1)))\n",
        "    return K.conv2d(image,filter,padding='same')\n",
        "  \n",
        "  def e3b(self,image):\n",
        "    return K.minimum(self.e3a(image),self.e3_vertical_l(image))\n",
        "  \n",
        "  def e3c(self,image):\n",
        "    return K.minimum(self.e3a(image),self.e3_horizontal(image))\n",
        "  \n",
        "  def e3d(self,image):\n",
        "    return K.minimum(self.e3c(image),K.minimum(self.e3_vertical_l(image),self.e3_vertical_r(image)))\n",
        "  \n",
        "  def e5_vertical_l(self,image):\n",
        "    filter = K.constant(np.array([[[[-1,2,-2,0,0],\n",
        "                        [2,-6,8,0,0],\n",
        "                        [-2,8,-12,0,0],\n",
        "                        [2,-6,8,0,0],\n",
        "                        [-1,2,-2,0,0]]]]).reshape((5,5,1,1)))\n",
        "    return K.conv2d(image,filter,padding='same')\n",
        "  \n",
        "  def e5_vertical_r(self,image):\n",
        "    filter = K.constant(np.array([[[[0,0,-2,2,-1],\n",
        "                        [0,0,8,-6,2],\n",
        "                        [0,0,-12,8,-2],\n",
        "                        [0,0,8,-6,2],\n",
        "                        [0,0,-2,2,-1]]]]).reshape((5,5,1,1)))\n",
        "    return K.conv2d(image,filter,padding='same')\n",
        "  \n",
        "  def e5_horizontal(self,image):\n",
        "    filter = K.constant(np.array([[[[0,0,0,0,0],\n",
        "                        [0,0,0,0,0],\n",
        "                        [-2,8,-12,8,-2],\n",
        "                        [2,-6,8,-6,2],\n",
        "                        [-1,2,-2,2,-1]]]]).reshape((5,5,1,1)))\n",
        "    return K.conv2d(image,filter,padding='same')\n",
        "  \n",
        "  def e5a(self,image):\n",
        "    filter = K.constant(np.array([[[[-1,2,-2,2,-1],\n",
        "                        [2,-6,8,-6,2],\n",
        "                        [-2,8,-12,8,-2],\n",
        "                        [0,0,0,0,0],\n",
        "                        [0,0,0,0,0]]]]).reshape((5,5,1,1)))\n",
        "    return K.conv2d(image,filter,padding='same')\n",
        "  \n",
        "  def e5b(self,image):\n",
        "    return K.minimum(self.e5a(image),self.e5_vertical_l(image))\n",
        "  \n",
        "  def e5c(self,image):\n",
        "    return K.minimum(self.e5a(image),self.e5_horizontal(image))\n",
        "  \n",
        "  def e5d(self,image):\n",
        "    return K.minimum(self.e5c(image),K.minimum(self.e5_vertical_l(image),self.e5_vertical_r(image)))\n",
        "\n",
        "  # refer TIFS-SRM 2012 paper to understand filters (Page No 5)\n",
        "  def call(self,image):\n",
        "    return K.stack([self.a1(image)[:,:,:,0],             #corresponds 1a)\n",
        "                                self.b1(image)[:,:,:,0], #corresponds 1b)\n",
        "                                self.c1(image)[:,:,:,0], #corresponds 1c)\n",
        "                                self.d1(image)[:,:,:,0], #corresponds 1d)\n",
        "                                self.a2(image)[:,:,:,0], #corresponds 2a)\n",
        "                                self.b2(image)[:,:,:,0], #corresponds 2b)\n",
        "                                self.a3(image)[:,:,:,0], #corresponds 3rd order defined similar to 1a)\n",
        "                                self.b3(image)[:,:,:,0], #corresponds 3rd order defined similar to 1b)\n",
        "                                self.c3(image)[:,:,:,0], #corresponds 3rd order defined similar to 1c)\n",
        "                                self.d3(image)[:,:,:,0], #corresponds 3rd order defined similar to 1d)\n",
        "                                self.s3a(image)[:,:,:,0],#square 3x3 refer S3a)\n",
        "                                self.s5a(image)[:,:,:,0],#square 5x5 refer S5a)\n",
        "                                self.e3a(image)[:,:,:,0],#edge 3x3 refer E3a)\n",
        "                                self.e3b(image)[:,:,:,0],#edge 3x3 refer E3b)\n",
        "                                self.e3c(image)[:,:,:,0],#edge 3x3 refer E3c)\n",
        "                                self.e3d(image)[:,:,:,0],#edge 3x3 refer E3d)\n",
        "                                self.e5a(image)[:,:,:,0],#edge 5x5 similar to E3a)\n",
        "                                self.e5b(image)[:,:,:,0],#edge 5x5 similar to E3a)\n",
        "                                self.e5c(image)[:,:,:,0],#edge 5x5 similar to E3a)\n",
        "                                self.e5d(image)[:,:,:,0],#edge 5x5 similar to E3a)\n",
        "                                ],axis=3)\n",
        "  def get_output_shape(self,input_shape):\n",
        "    return (input_shape[0],input_shape[1],input_shape[2],20)"
      ],
      "execution_count": 19,
      "outputs": []
    },
    {
      "cell_type": "code",
      "metadata": {
        "id": "b3phzCJA7J0K"
      },
      "source": [
        "class ConvConst(tf.keras.models.Model):\n",
        "  def __init__(self,num_classes=10):\n",
        "    super(ConvConst,self).__init__()\n",
        "    self.n_classes = num_classes\n",
        "    #self.block1 = PreprocessLayer()\n",
        "    \n",
        "    self.block2 = tf.keras.models.Sequential([\n",
        "                                              L.Conv2D(96,(7,7),strides=2),\n",
        "                                              L.BatchNormalization(),\n",
        "                                              L.Activation('tanh'),\n",
        "                                              L.MaxPool2D(pool_size=(3,3),strides=2)\n",
        "    ])\n",
        "    self.block3 = tf.keras.models.Sequential([\n",
        "                                             L.Conv2D(64,(5,5),strides=1),\n",
        "                                             L.BatchNormalization()\n",
        "    ])\n",
        "    self.block4 = tf.keras.models.Sequential([\n",
        "                                             L.Conv2D(64,(5,5),strides=1),\n",
        "                                             L.BatchNormalization(),\n",
        "                                             L.Activation('tanh'),\n",
        "                                             L.MaxPool2D(pool_size=(3,3),strides=2)\n",
        "    ])\n",
        "    self.block5 = tf.keras.models.Sequential([\n",
        "                                             L.Conv2D(128,(1,1),strides=1),\n",
        "                                             L.BatchNormalization(),\n",
        "                                             L.Activation('tanh'),\n",
        "                                             L.AveragePooling2D(pool_size=(3,3),strides=2)\n",
        "    ])\n",
        "\n",
        "    self.fc1 = L.Dense(200)\n",
        "    self.fc2 = L.Dense(200)\n",
        "    self.fc3 = L.Dense(num_classes,activation=\"softmax\")\n",
        "\n",
        "  def call(self,inputs,**kwargs):\n",
        "    #out = self.block1(inputs)\n",
        "    out = self.block2(inputs)\n",
        "    out = self.block3(out)\n",
        "    out = self.block4(out)\n",
        "    out = self.block5(out)\n",
        "\n",
        "    out = L.Flatten()(out)\n",
        "\n",
        "    out = self.fc1(out)\n",
        "    out = self.fc2(out)\n",
        "    out = self.fc3(out)\n",
        "    return out"
      ],
      "execution_count": 20,
      "outputs": []
    },
    {
      "cell_type": "code",
      "metadata": {
        "id": "ZhJWvZqonQxt"
      },
      "source": [
        "K.clear_session()\n",
        "model = ConvConst(num_classes=10)\n",
        "model.compile(loss = 'sparse_categorical_crossentropy',optimizer=tf.keras.optimizers.Adam(learning_rate=0.003),metrics=[\"accuracy\"])\n",
        "model.build((None,256,256,1))\n",
        "\n",
        "model.layers[0].trainable=False"
      ],
      "execution_count": 21,
      "outputs": []
    },
    {
      "cell_type": "code",
      "metadata": {
        "id": "HINZj5RVoZeO",
        "colab": {
          "base_uri": "https://localhost:8080/"
        },
        "outputId": "888a5c3a-e26c-4d07-e187-cdd6e528aa5c"
      },
      "source": [
        "model.summary()"
      ],
      "execution_count": 22,
      "outputs": [
        {
          "output_type": "stream",
          "name": "stdout",
          "text": [
            "Model: \"conv_const\"\n",
            "_________________________________________________________________\n",
            " Layer (type)                Output Shape              Param #   \n",
            "=================================================================\n",
            " sequential (Sequential)     (None, 62, 62, 96)        5184      \n",
            "                                                                 \n",
            " sequential_1 (Sequential)   (None, 58, 58, 64)        153920    \n",
            "                                                                 \n",
            " sequential_2 (Sequential)   (None, 26, 26, 64)        102720    \n",
            "                                                                 \n",
            " sequential_3 (Sequential)   (None, 12, 12, 128)       8832      \n",
            "                                                                 \n",
            " dense (Dense)               multiple                  3686600   \n",
            "                                                                 \n",
            " dense_1 (Dense)             multiple                  40200     \n",
            "                                                                 \n",
            " dense_2 (Dense)             multiple                  2010      \n",
            "                                                                 \n",
            "=================================================================\n",
            "Total params: 3,999,466\n",
            "Trainable params: 3,993,770\n",
            "Non-trainable params: 5,696\n",
            "_________________________________________________________________\n"
          ]
        }
      ]
    },
    {
      "cell_type": "code",
      "metadata": {
        "id": "VPZJOXNIAH54"
      },
      "source": [
        "#import sys\n",
        "#del sys.modules[\"DataLoader\"]\n",
        "#del sys.modules[\"const\"]"
      ],
      "execution_count": 23,
      "outputs": []
    },
    {
      "cell_type": "markdown",
      "metadata": {
        "id": "epK5sqOzM_I9"
      },
      "source": [
        "# Model Training"
      ]
    },
    {
      "cell_type": "code",
      "metadata": {
        "id": "uUgBH1Usojvd"
      },
      "source": [
        "from DataLoader import *\n",
        "from const import loss_plt"
      ],
      "execution_count": 25,
      "outputs": []
    },
    {
      "cell_type": "code",
      "metadata": {
        "id": "wzYaKfz08G-O"
      },
      "source": [
        "RF = [0.6,0.7,0.8,0.9,0.95,1.05,1.1,1.2,1.3,1.4]"
      ],
      "execution_count": 26,
      "outputs": []
    },
    {
      "cell_type": "code",
      "metadata": {
        "id": "_fQnq0Qc90Iv"
      },
      "source": [
        "load = DataLoader(path ='/content/DCR/train/',val_path = '/content/DCR/val/',merge=False,rfs =RF)\n",
        "\n",
        "train = load.flow(batch_size=64)\n",
        "val = load.val_flow(batch_size=64)\n",
        "   \n",
        "#early stopping            \n",
        "early_stop = tf.keras.callbacks.EarlyStopping(patience=10,monitor='val_accuracy',mode='max')\n",
        "#loss curves and log writing\n",
        "loss_plot = loss_plt()\n",
        "#check point\n",
        "chckpt = tf.keras.callbacks.ModelCheckpoint('model.hdf5',monitor='val_accuracy',mode='max',save_best_only=True,save_weights_only=True)\n",
        "lr_plateau = tf.keras.callbacks.ReduceLROnPlateau(monitor='val_loss',mode='min',patience=5,factor=0.8)"
      ],
      "execution_count": 27,
      "outputs": []
    },
    {
      "cell_type": "code",
      "source": [
        "model.load_weights('/content/drive/MyDrive/model.hdf5')"
      ],
      "metadata": {
        "id": "6pnHF67eASo5"
      },
      "execution_count": 28,
      "outputs": []
    },
    {
      "cell_type": "code",
      "source": [],
      "metadata": {
        "id": "zyjv57NSAS4r"
      },
      "execution_count": 28,
      "outputs": []
    },
    {
      "cell_type": "code",
      "metadata": {
        "id": "2MDr3QHjCirU"
      },
      "source": [
        "model.fit(train,\n",
        "          steps_per_epoch = int(len(load.files)/64),\n",
        "          epochs = 50,\n",
        "          validation_data = val,\n",
        "          validation_steps= int(len(load.val_files)/64),\n",
        "          callbacks=[loss_plot,chckpt,lr_plateau],\n",
        "          verbose=1\n",
        "          )"
      ],
      "execution_count": null,
      "outputs": []
    },
    {
      "cell_type": "markdown",
      "metadata": {
        "id": "96xqn1liNB4m"
      },
      "source": [
        "# Model-Testing"
      ]
    },
    {
      "cell_type": "code",
      "metadata": {
        "id": "yCxNoIIKXqLN"
      },
      "source": [
        "model.load_weights('/content/drive/MyDrive/model.hdf5')"
      ],
      "execution_count": 33,
      "outputs": []
    },
    {
      "cell_type": "code",
      "metadata": {
        "id": "_MZlGueyXqLb"
      },
      "source": [
        "import glob\n",
        "from tqdm.notebook import tqdm\n",
        "from sklearn.metrics import accuracy_score"
      ],
      "execution_count": 34,
      "outputs": []
    },
    {
      "cell_type": "code",
      "metadata": {
        "id": "FnSNUt6E2tH7"
      },
      "source": [
        "files = [fn for fn in glob.glob(os.path.join('/content/DCR/test','*.jpg'))]"
      ],
      "execution_count": 35,
      "outputs": []
    },
    {
      "cell_type": "code",
      "metadata": {
        "id": "d6MBWA-hXqLc",
        "colab": {
          "base_uri": "https://localhost:8080/",
          "height": 49,
          "referenced_widgets": [
            "ebeb7bffbfbc42ac85e9fd80af583a4d",
            "3298f075db874a3698e039b987be1c4e",
            "9bc581cdd22d48a4a7a9b3de11b1e9a0",
            "8ae373f2f3114546833d9db3f91a7658",
            "02fa1bf967174351a9c2e7bcd3309b9f",
            "1bcc2ef4fb964c31a05acfb27c6612f9",
            "e3e13ecc47234dc2917a590786a18566",
            "50b3d2110f664cdf9dfa648e57072f5f",
            "d6dda498490f474b865f82dadb8f4956",
            "74c36c3c353c43fdb2db1cc06ccc4c57",
            "f33ea5d97d9f413bbaed27bd00e064d6"
          ]
        },
        "outputId": "10654e66-76ae-4ec8-aabf-a168575758cd"
      },
      "source": [
        "def crop_image(img):\n",
        "    mid = (int(img.shape[0]/2),int(img.shape[1]/2))\n",
        "    return img[mid[0]-128:mid[0]+128,mid[1]-128:mid[1]+128]\n",
        "\n",
        "class_dict = dict(zip(RF,range(len(RF))))\n",
        "label = lambda x: class_dict[float(x.split('.jpg')[0].split('rf_')[-1])]\n",
        "\n",
        "images = []\n",
        "labels = []\n",
        "for f in tqdm(files):\n",
        "  image = cv2.cvtColor(cv2.imread(f),cv2.COLOR_BGR2GRAY)\n",
        "  image = np.expand_dims(crop_image(image),axis=2).astype(np.float32)\n",
        "  labels.append(label(f.split('/')[-1]))\n",
        "  images.append(image)\n",
        "  "
      ],
      "execution_count": 36,
      "outputs": [
        {
          "output_type": "display_data",
          "data": {
            "text/plain": [
              "  0%|          | 0/3300 [00:00<?, ?it/s]"
            ],
            "application/vnd.jupyter.widget-view+json": {
              "version_major": 2,
              "version_minor": 0,
              "model_id": "ebeb7bffbfbc42ac85e9fd80af583a4d"
            }
          },
          "metadata": {}
        }
      ]
    },
    {
      "cell_type": "code",
      "metadata": {
        "colab": {
          "base_uri": "https://localhost:8080/"
        },
        "id": "Ct5FcVqhXqLd",
        "outputId": "607be214-eb11-449b-bb32-0b52c3b431f0"
      },
      "source": [
        "pred = [np.argmax(p) for p in model.predict(np.stack(images))]\n",
        "accuracy_score(labels,pred)"
      ],
      "execution_count": 37,
      "outputs": [
        {
          "output_type": "execute_result",
          "data": {
            "text/plain": [
              "0.4036363636363636"
            ]
          },
          "metadata": {},
          "execution_count": 37
        }
      ]
    },
    {
      "cell_type": "code",
      "metadata": {
        "id": "vYx8E0yO4MH4"
      },
      "source": [
        "\n",
        "from accuracyMatrix_1 import matrix\n",
        "from utilities import *\n"
      ],
      "execution_count": 39,
      "outputs": []
    },
    {
      "cell_type": "markdown",
      "metadata": {
        "id": "bnC5piZoNJ54"
      },
      "source": [
        "## All-Factors"
      ]
    },
    {
      "cell_type": "code",
      "metadata": {
        "colab": {
          "base_uri": "https://localhost:8080/",
          "height": 258
        },
        "id": "wJvVJ4qzNMfZ",
        "outputId": "044fceee-598e-4789-9304-6a7442603599"
      },
      "source": [
        "df = matrix(model,test_dir=\"/content/DCR/test/\")\n",
        "df"
      ],
      "execution_count": 40,
      "outputs": [
        {
          "output_type": "stream",
          "name": "stdout",
          "text": [
            "[3 1 0 2 1 1 8 4 3 8 1 8 0 4 9 8 4 0 6 8 1 1 0 0 2 0 4 9 1 2 8 3 5 2 5 4 8\n",
            " 6 1 1 3 7 1 1 6 3 3 4 2 2 9 0 9 8 8 6 2 4 7 6 3 8 6 0 0 8 9 0 1 7 0 5 0 7\n",
            " 2 8 1 1 1 0 9 7 4 5 0 1 1 6 8 0 0 1 4 4 0 5 0 7 2 1 8 8 3 8 7 2 1 0 8 0]\n"
          ]
        },
        {
          "output_type": "execute_result",
          "data": {
            "text/plain": [
              "          50        60        70        80        90        99\n",
              "50       0.4  0.418182  0.463636  0.481818       0.6  0.545455\n",
              "60       0.3  0.409091  0.463636  0.436364  0.518182  0.590909\n",
              "70  0.381818  0.409091  0.363636  0.409091  0.472727  0.490909\n",
              "80       0.3       0.3       0.3  0.454545  0.345455  0.463636\n",
              "90  0.345455  0.327273  0.272727  0.290909  0.281818  0.272727"
            ],
            "text/html": [
              "\n",
              "  <div id=\"df-9ce152a9-f244-4b00-9876-cc26dc6de8ec\">\n",
              "    <div class=\"colab-df-container\">\n",
              "      <div>\n",
              "<style scoped>\n",
              "    .dataframe tbody tr th:only-of-type {\n",
              "        vertical-align: middle;\n",
              "    }\n",
              "\n",
              "    .dataframe tbody tr th {\n",
              "        vertical-align: top;\n",
              "    }\n",
              "\n",
              "    .dataframe thead th {\n",
              "        text-align: right;\n",
              "    }\n",
              "</style>\n",
              "<table border=\"1\" class=\"dataframe\">\n",
              "  <thead>\n",
              "    <tr style=\"text-align: right;\">\n",
              "      <th></th>\n",
              "      <th>50</th>\n",
              "      <th>60</th>\n",
              "      <th>70</th>\n",
              "      <th>80</th>\n",
              "      <th>90</th>\n",
              "      <th>99</th>\n",
              "    </tr>\n",
              "  </thead>\n",
              "  <tbody>\n",
              "    <tr>\n",
              "      <th>50</th>\n",
              "      <td>0.4</td>\n",
              "      <td>0.418182</td>\n",
              "      <td>0.463636</td>\n",
              "      <td>0.481818</td>\n",
              "      <td>0.6</td>\n",
              "      <td>0.545455</td>\n",
              "    </tr>\n",
              "    <tr>\n",
              "      <th>60</th>\n",
              "      <td>0.3</td>\n",
              "      <td>0.409091</td>\n",
              "      <td>0.463636</td>\n",
              "      <td>0.436364</td>\n",
              "      <td>0.518182</td>\n",
              "      <td>0.590909</td>\n",
              "    </tr>\n",
              "    <tr>\n",
              "      <th>70</th>\n",
              "      <td>0.381818</td>\n",
              "      <td>0.409091</td>\n",
              "      <td>0.363636</td>\n",
              "      <td>0.409091</td>\n",
              "      <td>0.472727</td>\n",
              "      <td>0.490909</td>\n",
              "    </tr>\n",
              "    <tr>\n",
              "      <th>80</th>\n",
              "      <td>0.3</td>\n",
              "      <td>0.3</td>\n",
              "      <td>0.3</td>\n",
              "      <td>0.454545</td>\n",
              "      <td>0.345455</td>\n",
              "      <td>0.463636</td>\n",
              "    </tr>\n",
              "    <tr>\n",
              "      <th>90</th>\n",
              "      <td>0.345455</td>\n",
              "      <td>0.327273</td>\n",
              "      <td>0.272727</td>\n",
              "      <td>0.290909</td>\n",
              "      <td>0.281818</td>\n",
              "      <td>0.272727</td>\n",
              "    </tr>\n",
              "  </tbody>\n",
              "</table>\n",
              "</div>\n",
              "      <button class=\"colab-df-convert\" onclick=\"convertToInteractive('df-9ce152a9-f244-4b00-9876-cc26dc6de8ec')\"\n",
              "              title=\"Convert this dataframe to an interactive table.\"\n",
              "              style=\"display:none;\">\n",
              "        \n",
              "  <svg xmlns=\"http://www.w3.org/2000/svg\" height=\"24px\"viewBox=\"0 0 24 24\"\n",
              "       width=\"24px\">\n",
              "    <path d=\"M0 0h24v24H0V0z\" fill=\"none\"/>\n",
              "    <path d=\"M18.56 5.44l.94 2.06.94-2.06 2.06-.94-2.06-.94-.94-2.06-.94 2.06-2.06.94zm-11 1L8.5 8.5l.94-2.06 2.06-.94-2.06-.94L8.5 2.5l-.94 2.06-2.06.94zm10 10l.94 2.06.94-2.06 2.06-.94-2.06-.94-.94-2.06-.94 2.06-2.06.94z\"/><path d=\"M17.41 7.96l-1.37-1.37c-.4-.4-.92-.59-1.43-.59-.52 0-1.04.2-1.43.59L10.3 9.45l-7.72 7.72c-.78.78-.78 2.05 0 2.83L4 21.41c.39.39.9.59 1.41.59.51 0 1.02-.2 1.41-.59l7.78-7.78 2.81-2.81c.8-.78.8-2.07 0-2.86zM5.41 20L4 18.59l7.72-7.72 1.47 1.35L5.41 20z\"/>\n",
              "  </svg>\n",
              "      </button>\n",
              "      \n",
              "  <style>\n",
              "    .colab-df-container {\n",
              "      display:flex;\n",
              "      flex-wrap:wrap;\n",
              "      gap: 12px;\n",
              "    }\n",
              "\n",
              "    .colab-df-convert {\n",
              "      background-color: #E8F0FE;\n",
              "      border: none;\n",
              "      border-radius: 50%;\n",
              "      cursor: pointer;\n",
              "      display: none;\n",
              "      fill: #1967D2;\n",
              "      height: 32px;\n",
              "      padding: 0 0 0 0;\n",
              "      width: 32px;\n",
              "    }\n",
              "\n",
              "    .colab-df-convert:hover {\n",
              "      background-color: #E2EBFA;\n",
              "      box-shadow: 0px 1px 2px rgba(60, 64, 67, 0.3), 0px 1px 3px 1px rgba(60, 64, 67, 0.15);\n",
              "      fill: #174EA6;\n",
              "    }\n",
              "\n",
              "    [theme=dark] .colab-df-convert {\n",
              "      background-color: #3B4455;\n",
              "      fill: #D2E3FC;\n",
              "    }\n",
              "\n",
              "    [theme=dark] .colab-df-convert:hover {\n",
              "      background-color: #434B5C;\n",
              "      box-shadow: 0px 1px 3px 1px rgba(0, 0, 0, 0.15);\n",
              "      filter: drop-shadow(0px 1px 2px rgba(0, 0, 0, 0.3));\n",
              "      fill: #FFFFFF;\n",
              "    }\n",
              "  </style>\n",
              "\n",
              "      <script>\n",
              "        const buttonEl =\n",
              "          document.querySelector('#df-9ce152a9-f244-4b00-9876-cc26dc6de8ec button.colab-df-convert');\n",
              "        buttonEl.style.display =\n",
              "          google.colab.kernel.accessAllowed ? 'block' : 'none';\n",
              "\n",
              "        async function convertToInteractive(key) {\n",
              "          const element = document.querySelector('#df-9ce152a9-f244-4b00-9876-cc26dc6de8ec');\n",
              "          const dataTable =\n",
              "            await google.colab.kernel.invokeFunction('convertToInteractive',\n",
              "                                                     [key], {});\n",
              "          if (!dataTable) return;\n",
              "\n",
              "          const docLinkHtml = 'Like what you see? Visit the ' +\n",
              "            '<a target=\"_blank\" href=https://colab.research.google.com/notebooks/data_table.ipynb>data table notebook</a>'\n",
              "            + ' to learn more about interactive tables.';\n",
              "          element.innerHTML = '';\n",
              "          dataTable['output_type'] = 'display_data';\n",
              "          await google.colab.output.renderOutput(dataTable, element);\n",
              "          const docLink = document.createElement('div');\n",
              "          docLink.innerHTML = docLinkHtml;\n",
              "          element.appendChild(docLink);\n",
              "        }\n",
              "      </script>\n",
              "    </div>\n",
              "  </div>\n",
              "  "
            ]
          },
          "metadata": {},
          "execution_count": 40
        }
      ]
    },
    {
      "cell_type": "code",
      "metadata": {
        "id": "aqpgV3OU_Tc7"
      },
      "source": [],
      "execution_count": null,
      "outputs": []
    }
  ]
}